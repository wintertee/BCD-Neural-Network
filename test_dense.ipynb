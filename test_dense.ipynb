{
 "cells": [
  {
   "cell_type": "code",
   "execution_count": 2,
   "metadata": {},
   "outputs": [],
   "source": [
    "from Re0_neural_network import activations, initializers, layers, losses, models, optimizers, metrics\n",
    "\n",
    "import numpy as np\n",
    "import matplotlib.pyplot as plt\n",
    "import time\n",
    "\n",
    "# load dataset\n",
    "mnist = np.load('datasets/mnist.npz')\n",
    "train_images = mnist['train_images']\n",
    "train_labels = mnist['train_labels']\n",
    "test_images = mnist['test_images']\n",
    "test_labels = mnist['test_labels']\n",
    "\n",
    "# add 1 dim to the last axis of the image\n",
    "train_images = train_images.reshape(*(train_images.shape), 1).astype(float)\n",
    "test_images = test_images.reshape(*(test_images.shape), 1).astype(float)\n",
    "\n",
    "# normalisation\n",
    "train_images /= 255\n",
    "test_images /= 255\n",
    "\n",
    "# one-hot encode\n",
    "targets = train_labels.reshape(-1)\n",
    "train_labels = np.eye(10)[targets].reshape(60000, 10, 1)\n",
    "\n",
    "targets = test_labels.reshape(-1)\n",
    "test_labels = np.eye(10)[targets].reshape(10000, 10, 1)\n",
    "\n"
   ]
  },
  {
   "cell_type": "code",
   "execution_count": null,
   "metadata": {},
   "outputs": [],
   "source": []
  },
  {
   "cell_type": "code",
   "execution_count": 2,
   "metadata": {},
   "outputs": [],
   "source": []
  },
  {
   "cell_type": "code",
   "execution_count": 3,
   "metadata": {},
   "outputs": [
    {
     "data": {
      "text/plain": [
       "(60000,)"
      ]
     },
     "execution_count": 3,
     "metadata": {},
     "output_type": "execute_result"
    }
   ],
   "source": []
  },
  {
   "cell_type": "code",
   "execution_count": 7,
   "metadata": {},
   "outputs": [
    {
     "ename": "IndexError",
     "evalue": "arrays used as indices must be of integer (or boolean) type",
     "output_type": "error",
     "traceback": [
      "\u001b[1;31m---------------------------------------------------------------------------\u001b[0m",
      "\u001b[1;31mIndexError\u001b[0m                                Traceback (most recent call last)",
      "\u001b[1;32m<ipython-input-7-6e7cd082e8f8>\u001b[0m in \u001b[0;36m<module>\u001b[1;34m()\u001b[0m\n\u001b[0;32m      1\u001b[0m \u001b[1;31m# one-hot encode\u001b[0m\u001b[1;33m\u001b[0m\u001b[1;33m\u001b[0m\u001b[0m\n\u001b[0;32m      2\u001b[0m \u001b[0mtargets\u001b[0m \u001b[1;33m=\u001b[0m \u001b[0mtrain_labels\u001b[0m\u001b[1;33m.\u001b[0m\u001b[0mreshape\u001b[0m\u001b[1;33m(\u001b[0m\u001b[1;33m-\u001b[0m\u001b[1;36m1\u001b[0m\u001b[1;33m)\u001b[0m\u001b[1;33m\u001b[0m\u001b[0m\n\u001b[1;32m----> 3\u001b[1;33m \u001b[0mtrain_labels\u001b[0m \u001b[1;33m=\u001b[0m \u001b[0mnp\u001b[0m\u001b[1;33m.\u001b[0m\u001b[0meye\u001b[0m\u001b[1;33m(\u001b[0m\u001b[1;36m10\u001b[0m\u001b[1;33m)\u001b[0m\u001b[1;33m[\u001b[0m\u001b[0mtargets\u001b[0m\u001b[1;33m]\u001b[0m\u001b[1;33m.\u001b[0m\u001b[0mreshape\u001b[0m\u001b[1;33m(\u001b[0m\u001b[1;36m60000\u001b[0m\u001b[1;33m,\u001b[0m \u001b[1;36m10\u001b[0m\u001b[1;33m,\u001b[0m \u001b[1;36m1\u001b[0m\u001b[1;33m)\u001b[0m\u001b[1;33m\u001b[0m\u001b[0m\n\u001b[0m\u001b[0;32m      4\u001b[0m \u001b[1;33m\u001b[0m\u001b[0m\n\u001b[0;32m      5\u001b[0m \u001b[0mtargets\u001b[0m \u001b[1;33m=\u001b[0m \u001b[0mtest_labels\u001b[0m\u001b[1;33m.\u001b[0m\u001b[0mreshape\u001b[0m\u001b[1;33m(\u001b[0m\u001b[1;33m-\u001b[0m\u001b[1;36m1\u001b[0m\u001b[1;33m)\u001b[0m\u001b[1;33m\u001b[0m\u001b[0m\n",
      "\u001b[1;31mIndexError\u001b[0m: arrays used as indices must be of integer (or boolean) type"
     ]
    }
   ],
   "source": []
  },
  {
   "cell_type": "code",
   "execution_count": 5,
   "metadata": {},
   "outputs": [
    {
     "data": {
      "text/plain": [
       "(60000, 10, 1)"
      ]
     },
     "execution_count": 5,
     "metadata": {},
     "output_type": "execute_result"
    }
   ],
   "source": []
  },
  {
   "cell_type": "code",
   "execution_count": null,
   "metadata": {},
   "outputs": [],
   "source": []
  },
  {
   "cell_type": "code",
   "execution_count": 12,
   "metadata": {},
   "outputs": [],
   "source": []
  },
  {
   "cell_type": "code",
   "execution_count": null,
   "metadata": {},
   "outputs": [],
   "source": [
    "\n",
    "    "
   ]
  },
  {
   "cell_type": "code",
   "execution_count": 3,
   "metadata": {},
   "outputs": [
    {
     "name": "stdout",
     "output_type": "stream",
     "text": [
      "===========================================\n",
      "              Model summary                \n",
      "===========================================\n",
      "layer 1 Flatten    parameters: 0         \n",
      "layer 2 Dense      parameters: 50240     \n",
      "layer 3 Dense      parameters: 650       \n",
      "===========================================\n",
      "total parameters: 50890\n",
      "===========================================\n",
      "Batch size: 20\n",
      "Loss: Crossentropy\n",
      "metric: categorical_accuracy\n",
      "learning rate: 0.001\n",
      "optimizer: SGD\n",
      "===========================================\n",
      "epoch: 1 train_loss: 1.598 train_accuracy: 58.83% val_loss: 1.598 val_accuracy: 59.20% time_per_epoch: 57.3\n",
      "epoch: 2 train_loss: 0.831 train_accuracy: 81.38% val_loss: 0.828 val_accuracy: 81.55% time_per_epoch: 48.9\n",
      "epoch: 3 train_loss: 0.608 train_accuracy: 85.15% val_loss: 0.600 val_accuracy: 85.53% time_per_epoch: 53.7\n",
      "epoch: 4 train_loss: 0.511 train_accuracy: 87.08% val_loss: 0.512 val_accuracy: 87.07% time_per_epoch: 49.7\n",
      "epoch: 5 train_loss: 0.456 train_accuracy: 88.26% val_loss: 0.462 val_accuracy: 87.44% time_per_epoch: 49.3\n"
     ]
    }
   ],
   "source": [
    "epochs = range(1, 6)\n",
    "\n",
    "train_losses = []\n",
    "train_metrics = []\n",
    "val_losses = []\n",
    "val_metrics = []\n",
    "\n",
    "model =models.Sequential()\n",
    "model.append(layers.Flatten())\n",
    "model.append(layers.Dense(784, 64, activations.relu, initializers.He))\n",
    "model.append(layers.Dense(64, 10, activations.softmax, initializers.He))\n",
    "model.build()\n",
    "\n",
    "model.config(optimizer=optimizers.SGD, \n",
    "             loss=losses.Crossentropy,\n",
    "             lr=0.001,\n",
    "             batch_size=20,\n",
    "             metric=metrics.categorical_accuracy)\n",
    "for epoch in epochs:\n",
    "    begin_time = time.time()\n",
    "    train_loss, train_metric, val_loss, val_metric = model.fit(train_images, train_labels, 0.001)\n",
    "\n",
    "    train_losses.append(train_loss)\n",
    "    train_metrics.append(train_metric)\n",
    "    val_losses.append(val_loss)\n",
    "    val_metrics.append(val_metric)\n",
    "    print(\n",
    "        \"epoch: {} train_loss: {:.3f} train_accuracy: {:.2%} val_loss: {:.3f} val_accuracy: {:.2%} time_per_epoch: {:.1f}\"\n",
    "        .format(epoch, train_loss, train_metric, val_loss, val_metric,\n",
    "                time.time() - begin_time))"
   ]
  },
  {
   "cell_type": "code",
   "execution_count": 4,
   "metadata": {},
   "outputs": [
    {
     "name": "stdout",
     "output_type": "stream",
     "text": [
      "===========================================\n",
      "              Model summary                \n",
      "===========================================\n",
      "layer 1 Flatten    parameters: 0         \n",
      "layer 2 Dense      parameters: 50240     \n",
      "layer 3 Dense      parameters: 650       \n",
      "===========================================\n",
      "total parameters: 50890\n",
      "===========================================\n",
      "Batch size: 20\n",
      "Loss: Crossentropy\n",
      "metric: categorical_accuracy\n",
      "learning rate: 0.001\n",
      "optimizer: PBCSCD\n",
      "===========================================\n",
      "epoch: 1 train_loss: 1.560 train_accuracy: 58.62% val_loss: 1.559 val_accuracy: 58.43% time_per_epoch: 52.1\n",
      "epoch: 2 train_loss: 0.794 train_accuracy: 82.84% val_loss: 0.783 val_accuracy: 83.58% time_per_epoch: 56.1\n",
      "epoch: 3 train_loss: 0.595 train_accuracy: 85.59% val_loss: 0.581 val_accuracy: 86.34% time_per_epoch: 57.1\n",
      "epoch: 4 train_loss: 0.501 train_accuracy: 86.96% val_loss: 0.497 val_accuracy: 87.21% time_per_epoch: 55.4\n",
      "epoch: 5 train_loss: 0.450 train_accuracy: 88.18% val_loss: 0.439 val_accuracy: 88.59% time_per_epoch: 52.7\n"
     ]
    }
   ],
   "source": [
    "epochs = range(1, 6)\n",
    "\n",
    "train_losses = []\n",
    "train_metrics = []\n",
    "val_losses = []\n",
    "val_metrics = []\n",
    "model =models.Sequential()\n",
    "model.append(layers.Flatten())\n",
    "model.append(layers.Dense(784, 64, activations.relu, initializers.He))\n",
    "model.append(layers.Dense(64, 10, activations.softmax, initializers.He))\n",
    "model.build()\n",
    "\n",
    "model.config(optimizer=optimizers.PBCSCD, \n",
    "             loss=losses.Crossentropy,\n",
    "             lr=0.001,\n",
    "             batch_size=20,\n",
    "             metric=metrics.categorical_accuracy)\n",
    "for epoch in epochs:\n",
    "    begin_time = time.time()\n",
    "    train_loss, train_metric, val_loss, val_metric = model.fit(train_images, train_labels, 0.001)\n",
    "\n",
    "    train_losses.append(train_loss)\n",
    "    train_metrics.append(train_metric)\n",
    "    val_losses.append(val_loss)\n",
    "    val_metrics.append(val_metric)\n",
    "    print(\n",
    "        \"epoch: {} train_loss: {:.3f} train_accuracy: {:.2%} val_loss: {:.3f} val_accuracy: {:.2%} time_per_epoch: {:.1f}\"\n",
    "        .format(epoch, train_loss, train_metric, val_loss, val_metric,\n",
    "                time.time() - begin_time))"
   ]
  },
  {
   "cell_type": "code",
   "execution_count": null,
   "metadata": {},
   "outputs": [],
   "source": [
    "3/2"
   ]
  },
  {
   "cell_type": "code",
   "execution_count": null,
   "metadata": {},
   "outputs": [],
   "source": [
    "[x,for x in range(3)]"
   ]
  },
  {
   "cell_type": "code",
   "execution_count": null,
   "metadata": {},
   "outputs": [],
   "source": [
    "l = [x for x in range( 11)]"
   ]
  },
  {
   "cell_type": "code",
   "execution_count": null,
   "metadata": {},
   "outputs": [],
   "source": [
    "l.remove(3)\n",
    "l"
   ]
  },
  {
   "cell_type": "code",
   "execution_count": null,
   "metadata": {},
   "outputs": [],
   "source": [
    "l.remove(7)\n",
    "l"
   ]
  },
  {
   "cell_type": "code",
   "execution_count": null,
   "metadata": {},
   "outputs": [],
   "source": [
    "class PBCSCD(Optimizer):\n",
    "    \"\"\"\n",
    "    \"pseudo\" Block-Cyclic Stochastic Coordinate \n",
    "    \n",
    "    \"\"\"\n",
    "    \n",
    "    \n",
    "    def step(self, x, y):\n",
    "        k = self.model.batch_size//(self.layer_numbers+1)##number samples used to calculate gradient\n",
    "        L_layer = [x for x in range(self.layer_numbers)] ##liste of number of layers\n",
    "        \n",
    "        for i in range (self.layer_numbers):\n",
    "            layer_i = L_layer[np.random.randint(len(L_layer))]##randomly choose a layer\n",
    "            x_i = x[i*k:(i+1)*k]## samples used to calculate gradient\n",
    "            y_i = y[i*k:(i+1)*k]\n",
    "           \n",
    "            super().step(x_i, y_i)\n",
    "            \n",
    "            self.P[layer_i]['w'] -= self.lr * self.G[layer_i]['w']##update parameters of the randomly chosen layer\n",
    "            self.P[layer_i]['b'] -= self.lr * self.G[layer_i]['b']\n",
    "            \n",
    "            L_layer.remove(layer_i) ## the layer whos parameters that have been updated will be removed from the list so that all parameters will be updated in one epoch\n",
    "        return (self.loss, self.metric)"
   ]
  }
 ],
 "metadata": {
  "kernelspec": {
   "display_name": "Python 3",
   "language": "python",
   "name": "python3"
  },
  "language_info": {
   "codemirror_mode": {
    "name": "ipython",
    "version": 3
   },
   "file_extension": ".py",
   "mimetype": "text/x-python",
   "name": "python",
   "nbconvert_exporter": "python",
   "pygments_lexer": "ipython3",
   "version": "3.7.0"
  }
 },
 "nbformat": 4,
 "nbformat_minor": 2
}
